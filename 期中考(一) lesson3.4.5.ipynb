{
 "cells": [
  {
   "cell_type": "markdown",
   "metadata": {},
   "source": [
    "**期中考(一) lesson3.4.5**"
   ]
  },
  {
   "cell_type": "markdown",
   "metadata": {},
   "source": [
    "1.\t[30%] Given a list L with n data elements, n > 1, can you use the range accessing without any loop statement to extract the following three lists from L?\n",
    "<br> (1)\t[10%] L1 contains all even-indexed elements in L.</br>\n",
    " (2)\t[10%] L2 contains all odd-indexed elements in L.\n",
    "<br> (3)\t[10%] L3 is the result of swapping any L[x] and L[x + 1], where x is an even index and x + 1 < n.</br>\n",
    "- Note that the order of elements in L1 and L2 must be the same as L.  For example:\n",
    "- If L = [0, 'A', 1, 'B', 2, 'C'], then\n",
    "<br> L1 is [0, 1, 2],</br>\n",
    " L2 is ['A', 'B', 'C'], and\n",
    "<br> L3 is ['A', 0, 'B', 1, 'C', 2].</br>\n",
    "\n",
    "- Another example:\n",
    "- If L = [0, 'A', 1, 'B', 2, 'C', 3], then</br>\n",
    "<br>  L1 is [0, 1, 2, 3],</br>\n",
    "  L2 is ['A', 'B', 'C'], and\n",
    "<br>  L3 is ['A', 0, 'B', 1, 'C', 2, 3].</br>\n"
   ]
  },
  {
   "cell_type": "code",
   "execution_count": 20,
   "metadata": {},
   "outputs": [
    {
     "data": {
      "text/plain": [
       "['A', 'B', 'C']"
      ]
     },
     "execution_count": 20,
     "metadata": {},
     "output_type": "execute_result"
    }
   ],
   "source": [
    "# [10%] L1 contains all even-indexed elements in L.\n",
    "L=[0, 'A', 1, 'B', 2, 'C', 3]\n",
    "L1 = L[1:len(L):2]\n",
    "L1"
   ]
  },
  {
   "cell_type": "code",
   "execution_count": 21,
   "metadata": {},
   "outputs": [
    {
     "data": {
      "text/plain": [
       "[0, 1, 2, 3]"
      ]
     },
     "execution_count": 21,
     "metadata": {},
     "output_type": "execute_result"
    }
   ],
   "source": [
    "# [10%] L2 contains all odd-indexed elements in L.\n",
    "L=[0, 'A', 1, 'B', 2, 'C', 3]\n",
    "L2 = L[0:len(L):2]\n",
    "L2"
   ]
  },
  {
   "cell_type": "code",
   "execution_count": 60,
   "metadata": {},
   "outputs": [
    {
     "data": {
      "text/plain": [
       "['A', 0, 'B', 1, 'C', 2]"
      ]
     },
     "execution_count": 60,
     "metadata": {},
     "output_type": "execute_result"
    }
   ],
   "source": [
    "# L3 is the result of swapping any L[x] and L[x + 1], where x is an even index and x + 1 < n.\n",
    "L=[0, 'A', 1, 'B', 2, 'C']\n",
    "if (len(L)&1)==0:\n",
    "    L[0:len(L):2],L[1:len(L):2] = L[1:len(L):2], L[0:len(L):2]\n",
    "if (len(L)&1)==1:\n",
    "    L[0:len(L)-2:2],L[1:len(L)-1:2],L[len(L)-1] = L[1:len(L)-1:2], L[0:len(L)-2:2],L[len(L)-1]\n",
    "                       \n",
    "L"
   ]
  },
  {
   "cell_type": "markdown",
   "metadata": {},
   "source": [
    "2.\t[30%] Input a list of real numbers.\n",
    "<br>(1) [15%] Design a program that allows your user can input N real numbers by the following rules:</br>\n",
    "(a)\tUsing a list named A to collect these n numbers.\n",
    "<br>(b)\tThe user can type ‘Q’ or ‘q’ to stop the input.</br>\n",
    "(c)\tIf the user typed a non-number string, your program should ignore it and ask the user to input the next number.\n",
    "<br> </br>\n",
    "<br>(2) [15%] Calculate the standard deviation s of these N numbers by the following equation, where  is the mean of A. </br>\n"
   ]
  },
  {
   "cell_type": "code",
   "execution_count": 59,
   "metadata": {},
   "outputs": [
    {
     "name": "stdin",
     "output_type": "stream",
     "text": [
      "Input a number: 9\n",
      "Input a number: 3\n",
      "Input a number: 1\n",
      "Input a number: Q\n"
     ]
    },
    {
     "name": "stdout",
     "output_type": "stream",
     "text": [
      "Q  is not a number\n",
      "['9', '3', '1']\n"
     ]
    }
   ],
   "source": [
    "# 2(1)\n",
    "A = []\n",
    "stop_words = ['Q','q']\n",
    "temp = 0\n",
    "while temp not in stop_words:\n",
    "    temp = input(\"Input a number:\")\n",
    "    if temp in A:\n",
    "        break\n",
    "    try:\n",
    "        int(temp)\n",
    "        A.append(temp)\n",
    "    except:\n",
    "        print(temp,\" is not a number\")\n",
    "print(A)"
   ]
  },
  {
   "cell_type": "code",
   "execution_count": null,
   "metadata": {},
   "outputs": [],
   "source": [
    "# 2(2)"
   ]
  }
 ],
 "metadata": {
  "kernelspec": {
   "display_name": "py37",
   "language": "python",
   "name": "env_name"
  },
  "language_info": {
   "codemirror_mode": {
    "name": "ipython",
    "version": 3
   },
   "file_extension": ".py",
   "mimetype": "text/x-python",
   "name": "python",
   "nbconvert_exporter": "python",
   "pygments_lexer": "ipython3",
   "version": "3.7.7"
  }
 },
 "nbformat": 4,
 "nbformat_minor": 4
}
