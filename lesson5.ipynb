{
 "cells": [
  {
   "cell_type": "markdown",
   "id": "9b3006a5-f1d0-4c47-9fda-6c40128442a1",
   "metadata": {},
   "source": [
    "**<font size = 5>lesson5－Function&Module</font>**"
   ]
  },
  {
   "cell_type": "code",
   "execution_count": null,
   "id": "146d45f5-f76f-4145-ab76-514c1b82390b",
   "metadata": {},
   "outputs": [],
   "source": [
    "# Function"
   ]
  },
  {
   "cell_type": "code",
   "execution_count": 90,
   "id": "4225c128-fc4d-4dab-89c3-e89ec306874e",
   "metadata": {},
   "outputs": [
    {
     "name": "stdout",
     "output_type": "stream",
     "text": [
      "3.0\n",
      "3\n"
     ]
    }
   ],
   "source": [
    "def average(L):\n",
    "    return (sum(L)/len(L))\n",
    "\n",
    "def medium(L):\n",
    "    return (sorted(L)[int(len(L)/2)])\n",
    "\n",
    "L1 = [1,3,5]\n",
    "print(average(L1))\n",
    "print(medium(L1))"
   ]
  },
  {
   "cell_type": "code",
   "execution_count": 91,
   "id": "e7a29935-3bde-4de4-83b8-9b2eb1a834b8",
   "metadata": {},
   "outputs": [
    {
     "name": "stdout",
     "output_type": "stream",
     "text": [
      "[ 0 ]: 1\n",
      "[ 1 ]: 3\n",
      "[ 2 ]: 5\n"
     ]
    }
   ],
   "source": [
    "# no return:\n",
    "def printlist(L):\n",
    "    for i in range(0,len(L)):\n",
    "        print('[', i, ']:', L[i] )\n",
    "\n",
    "printlist(L1)"
   ]
  },
  {
   "cell_type": "code",
   "execution_count": 97,
   "id": "d94295ca-16a6-4e85-aa54-cc7da07f3347",
   "metadata": {},
   "outputs": [
    {
     "name": "stdout",
     "output_type": "stream",
     "text": [
      "[4.4, 5.5, 2.2, 1.1, 9.9]\n",
      "[2.2, 1.1]\n",
      "[5.5, 2.2, 1.1]\n"
     ]
    }
   ],
   "source": [
    "#ｐｒａｃｔｉｃｅ\n",
    "# element-wise addition\n",
    "def sumList(L1, L2, start, stop):\n",
    "    L3 = [L1[i]+L2[i] for i in range(start, stop)]\n",
    "    return(L3)\n",
    "    \n",
    "L1 = [4, 5, 2, 1, 9]\n",
    "L2 = [0.4, 0.5, 0.2, 0.1, 0.9]\n",
    "L3 = sumList(L1, L2, 0, 5) \n",
    "print(L3)                       # [4.4, 5.5, 2.2, 1.1, 9.9]\n",
    "L4 = sumList(L1, L2, 2, 4)\n",
    "print(L4)                       # [2.2, 1.1]\n",
    "L5 = sumList(L1, L2, 1, 4)\n",
    "print(L5)                       # [5.5, 2.2, 1.1]\n",
    "\n",
    "# 說明\n",
    "# • append two parameters to sumList, start and stop, to indicate a data range of L1 and L2.\n",
    "# • Then, sumList returns a list that contains the result of element-wise addition of the specified range of L1 and L2."
   ]
  },
  {
   "cell_type": "code",
   "execution_count": null,
   "id": "ba04c744-feb4-4149-ac46-723ac40dfef4",
   "metadata": {},
   "outputs": [],
   "source": []
  },
  {
   "cell_type": "markdown",
   "id": "6e81e0c0-9c17-4a66-904b-c33418ca6b33",
   "metadata": {},
   "source": [
    "Let's try it\n",
    "- • Design a function, leftpad(s, n, c)\n",
    "- • s and c are strings, n is a positive integer\n",
    "- • leftpad can padding a series of c to the left side of s such \n",
    "that the length of padded s is n.\n",
    "- • Try to let the following program can be executed correctly\n",
    "\n",
    "s = '1.234'\n",
    "<br>print(leftpad(s, 8, 'X')) # xxx1.234</br>\n",
    "print(leftpad(s, 8)) # 0001.234\n",
    "<br>print(leftpad(s, 15, 'ABCD')) # CDABCDABCD1.234</br>\n",
    "print(leftpad(s, 0)) # 1.234\n",
    "<br>print(leftpad(n = 7, c = '@', s = s)) # @@1.234</br>\n",
    "\n",
    "- • You can use range access in a string \n",
    "<br>s = 'ABCDEF'</br>\n",
    "print(s[1:3]) # BC\n",
    "<br>print(s[:3]) # ABC</br>\n",
    "print(s[2:]) # CDEF"
   ]
  },
  {
   "cell_type": "code",
   "execution_count": 68,
   "id": "83e4d58a-22fe-45cc-a280-1c44a86850cc",
   "metadata": {},
   "outputs": [],
   "source": [
    "def leftpad(s,n,c='0'):\n",
    "    if((n-len(s))%len(c))==0:\n",
    "        return(c*((n-len(s))//len(c))+s)\n",
    "    else:\n",
    "        return(c[-(n-len(s))%len(c):len(c)]+c*((n-len(s))//len(c))+s)\n",
    "\n",
    "# 一行精簡版\n",
    "def leftpad(s,n,c='0'):\n",
    "    return(c*((n-len(s))//len(c))+s) if((n-len(s))%len(c))==0 else (c[-(n-len(s))%len(c):len(c)]+c*((n-len(s))//len(c))+s)"
   ]
  },
  {
   "cell_type": "code",
   "execution_count": null,
   "id": "d980c2fc-ac17-4fc3-8354-13b2213044e2",
   "metadata": {},
   "outputs": [],
   "source": []
  },
  {
   "cell_type": "markdown",
   "id": "e0af1e2b-b652-4502-b942-d3f21c5ef157",
   "metadata": {},
   "source": [
    "** Arbitrary arguments**"
   ]
  },
  {
   "cell_type": "code",
   "execution_count": 100,
   "id": "4a621223-04f6-4f3f-bd68-b6094b617374",
   "metadata": {},
   "outputs": [
    {
     "name": "stdout",
     "output_type": "stream",
     "text": [
      "6\n",
      "10\n",
      "0\n"
     ]
    }
   ],
   "source": [
    "# 泛用型** 1\n",
    "def sumA(*A):\n",
    "#    print(type(A)) # tuple\n",
    "    s = 0\n",
    "    for x in A:\n",
    "        s += x\n",
    "    return s\n",
    "print(sumA(1, 2, 3)) # 6\n",
    "print(sumA(1, 2, 3, 4)) # 10\n",
    "print(sumA()) # 0\n",
    "\n",
    "# 泛用型** 2\n",
    "def maxScore(**Scores):\n",
    "    print(type(Scores))\n",
    "    name = ''\n",
    "    score = 0;\n",
    "    for key in Scores:\n",
    "        if Scores[key] > score:\n",
    "            name = key\n",
    "            score = Scores[key]\n",
    "    print(name, score)\n",
    "maxScore(James = 90, Mary = 95, Bill = 86)\n",
    "maxScore(Wilson = 80, Marks = 65, Emily = 81, Tina = 100)\n",
    "\n",
    "# 泛用型** 3\n",
    "def setA(A, **value):\n",
    "    for key in value:\n",
    "        i = int(key[1:])\n",
    "        A[i] = value[key]\n",
    "A = [0, 0, 0, 0, 0, 0, 0] \n",
    "setA(A, a0 = 100, a2 = 30, a5 = 10)\n",
    "print(A)"
   ]
  },
  {
   "cell_type": "code",
   "execution_count": 31,
   "id": "5ceb0c63-c20f-4cb0-b7dd-92089b69a602",
   "metadata": {},
   "outputs": [
    {
     "name": "stdout",
     "output_type": "stream",
     "text": [
      "4 1 9\n",
      "0.4 0.1 0.9\n",
      "0.4 1 0.9\n"
     ]
    }
   ],
   "source": [
    "# • feature returns three numbers: median, minimum, and maximum.\n",
    "def feature(M):\n",
    "    return(sorted(M)[int(len(M)/2)],sorted(M)[0], sorted(M)[len(M)-1])\n",
    "\n",
    "L1 = [4, 5, 9, 1, 2]\n",
    "L2 = [0.2, 0.9, 0.1, 0.5, 0.4]\n",
    "\n",
    "med, mins, maxs = feature(L1)\n",
    "print(med, mins, maxs) # 4 1 9\n",
    "\n",
    "med, mins, maxs = feature(L2)\n",
    "print(med, mins, maxs) # 0.4 0.1 0.9\n",
    "\n",
    "#  Throwaway objects: \"_\"\n",
    "med, _, max = feature(L2)\n",
    "print(med, min, max)   # 0.4 1 0.9"
   ]
  },
  {
   "cell_type": "code",
   "execution_count": 6,
   "id": "eb81d8af-b80b-45cc-89a5-6f95cfc90209",
   "metadata": {},
   "outputs": [
    {
     "name": "stdout",
     "output_type": "stream",
     "text": [
      "*\n",
      "*\n",
      "*\n",
      "*\n",
      "*\n"
     ]
    }
   ],
   "source": [
    "for _ in range(5):\n",
    "    print('*')"
   ]
  },
  {
   "cell_type": "code",
   "execution_count": 10,
   "id": "46d14f1c-ce62-4d45-926a-41ddf1941285",
   "metadata": {},
   "outputs": [
    {
     "name": "stdout",
     "output_type": "stream",
     "text": [
      "[0.2255719900956723, 0.8943073047671907, 0.34294434683546193, 0.3556306595537466, 0.8834173630655054]\n"
     ]
    }
   ],
   "source": [
    "import random\n",
    "def randomlist(n):\n",
    "    return [random.random() for _ in range(n)]\n",
    "print(randomlist(5))"
   ]
  },
  {
   "cell_type": "code",
   "execution_count": 32,
   "id": "b1c1e5d6-9af2-469e-8c6c-c4d6074da751",
   "metadata": {},
   "outputs": [
    {
     "name": "stdout",
     "output_type": "stream",
     "text": [
      "100\n",
      "100\n",
      "10000\n",
      "10000\n",
      "50000\n",
      "50000\n"
     ]
    }
   ],
   "source": [
    "def func3(x):\n",
    "    global n # n is a global object\n",
    "    n *= x\n",
    "    return n\n",
    "n = 10\n",
    "m = func3(n) # func3 has side effect\n",
    "print(n) # 100, n is changed by func3\n",
    "print(m) # 100\n",
    "\n",
    "m = func3(n)\n",
    "print(n) # 10000\n",
    "print(m) # 10000\n",
    "\n",
    "m = func3(5)\n",
    "print(n) # 5000\n",
    "print(m) # 5000"
   ]
  },
  {
   "cell_type": "code",
   "execution_count": null,
   "id": "c9a4295d-0cce-4ab0-8c75-b3e8000bc1d5",
   "metadata": {},
   "outputs": [],
   "source": []
  },
  {
   "cell_type": "code",
   "execution_count": null,
   "id": "6ac793a8-7417-43bf-8f71-5eb6f65d812d",
   "metadata": {},
   "outputs": [],
   "source": []
  },
  {
   "cell_type": "markdown",
   "id": "3cfcb77b-4c50-4b4a-a441-a9c72764c695",
   "metadata": {},
   "source": [
    "**Modules**"
   ]
  },
  {
   "cell_type": "code",
   "execution_count": 3,
   "id": "b3b8ced0-2327-422a-aafc-8178dca4035a",
   "metadata": {},
   "outputs": [
    {
     "name": "stdout",
     "output_type": "stream",
     "text": [
      "6.0\n",
      "[0]2\n",
      "[1]3\n",
      "[2]4\n",
      "[3]5\n",
      "[4]6\n"
     ]
    }
   ],
   "source": [
    "import James as js\n",
    "L1 = [4, 5, 6, 7, 8]\n",
    "L2 = [2, 3, 4 ,5 ,6]\n",
    "print(js.avg(L1))\n",
    "L3 = js.sumList(L1, L2)\n",
    "L1, L2 = js.swap(L1, L2)\n",
    "js.printList(L1)"
   ]
  },
  {
   "cell_type": "code",
   "execution_count": 6,
   "id": "57ea5b34-0361-4bff-8255-08103f377bb9",
   "metadata": {},
   "outputs": [
    {
     "name": "stdout",
     "output_type": "stream",
     "text": [
      "6.0\n"
     ]
    },
    {
     "ename": "NameError",
     "evalue": "name 'sumList' is not defined",
     "output_type": "error",
     "traceback": [
      "\u001b[1;31m---------------------------------------------------------------------------\u001b[0m",
      "\u001b[1;31mNameError\u001b[0m                                 Traceback (most recent call last)",
      "\u001b[1;32m<ipython-input-6-794ea75cb632>\u001b[0m in \u001b[0;36m<module>\u001b[1;34m\u001b[0m\n\u001b[0;32m      2\u001b[0m \u001b[0mL2\u001b[0m \u001b[1;33m=\u001b[0m \u001b[1;33m[\u001b[0m\u001b[1;36m2\u001b[0m\u001b[1;33m,\u001b[0m \u001b[1;36m3\u001b[0m\u001b[1;33m,\u001b[0m \u001b[1;36m4\u001b[0m \u001b[1;33m,\u001b[0m\u001b[1;36m5\u001b[0m \u001b[1;33m,\u001b[0m\u001b[1;36m6\u001b[0m\u001b[1;33m]\u001b[0m\u001b[1;33m\u001b[0m\u001b[1;33m\u001b[0m\u001b[0m\n\u001b[0;32m      3\u001b[0m \u001b[0mprint\u001b[0m\u001b[1;33m(\u001b[0m\u001b[0mavg\u001b[0m\u001b[1;33m(\u001b[0m\u001b[0mL1\u001b[0m\u001b[1;33m)\u001b[0m\u001b[1;33m)\u001b[0m \u001b[1;31m# OK\u001b[0m\u001b[1;33m\u001b[0m\u001b[1;33m\u001b[0m\u001b[0m\n\u001b[1;32m----> 4\u001b[1;33m \u001b[0mL3\u001b[0m \u001b[1;33m=\u001b[0m \u001b[0msumList\u001b[0m\u001b[1;33m(\u001b[0m\u001b[0mL1\u001b[0m\u001b[1;33m,\u001b[0m \u001b[0mL2\u001b[0m\u001b[1;33m)\u001b[0m \u001b[1;31m# NameError\u001b[0m\u001b[1;33m\u001b[0m\u001b[1;33m\u001b[0m\u001b[0m\n\u001b[0m\u001b[0;32m      5\u001b[0m \u001b[0mL1\u001b[0m\u001b[1;33m,\u001b[0m \u001b[0mL2\u001b[0m \u001b[1;33m=\u001b[0m \u001b[0mJames\u001b[0m\u001b[1;33m.\u001b[0m\u001b[0mswap\u001b[0m\u001b[1;33m(\u001b[0m\u001b[0mL1\u001b[0m\u001b[1;33m,\u001b[0m \u001b[0mL2\u001b[0m\u001b[1;33m)\u001b[0m \u001b[1;31m# NameError\u001b[0m\u001b[1;33m\u001b[0m\u001b[1;33m\u001b[0m\u001b[0m\n\u001b[0;32m      6\u001b[0m \u001b[0mJames\u001b[0m\u001b[1;33m.\u001b[0m\u001b[0mprintList\u001b[0m\u001b[1;33m(\u001b[0m\u001b[0mL1\u001b[0m\u001b[1;33m)\u001b[0m \u001b[1;31m# NameError\u001b[0m\u001b[1;33m\u001b[0m\u001b[1;33m\u001b[0m\u001b[0m\n",
      "\u001b[1;31mNameError\u001b[0m: name 'sumList' is not defined"
     ]
    }
   ],
   "source": [
    "from James import avg # 只載入avg 功能，則 James的其他功能還是叫不出來\n",
    "L1 = [4, 5, 6, 7, 8]\n",
    "L2 = [2, 3, 4 ,5 ,6]\n",
    "print(avg(L1)) # OK\n",
    "L3 = sumList(L1, L2) # NameError\n",
    "L1, L2 = James.swap(L1, L2) # NameError\n",
    "James.printList(L1) # NameError"
   ]
  },
  {
   "cell_type": "code",
   "execution_count": 7,
   "id": "a7863edf-7e8d-41b2-8910-ebaa4f215405",
   "metadata": {},
   "outputs": [
    {
     "name": "stdout",
     "output_type": "stream",
     "text": [
      "6.0\n",
      "[0]2\n",
      "[1]3\n",
      "[2]4\n",
      "[3]5\n",
      "[4]6\n"
     ]
    }
   ],
   "source": [
    "# 從完整路徑 import module包裹\n",
    "# 使用 imp\n",
    "import imp\n",
    "J = imp.load_source('James', 'D:\\python程式設計_碩一下旁聽\\James.py')\n",
    "L1 = [4, 5, 6, 7, 8]\n",
    "L2 = [2, 3, 4 ,5 ,6]\n",
    "print(J.avg(L1))\n",
    "L3 = J.sumList(L1, L2)\n",
    "L1, L2 = J.swap(L1, L2)\n",
    "J.printList(L1)"
   ]
  },
  {
   "cell_type": "code",
   "execution_count": 8,
   "id": "2491352c-2859-4661-bea2-23afc274c007",
   "metadata": {},
   "outputs": [
    {
     "name": "stdout",
     "output_type": "stream",
     "text": [
      "24.0\n",
      "94.1\n"
     ]
    }
   ],
   "source": [
    "# 運用 module 轉換 °C、°F \n",
    "import temperature\n",
    "print(temperature.toC(75.2)) # 24\n",
    "print(temperature.toF(34.5)) # 94.1"
   ]
  },
  {
   "cell_type": "code",
   "execution_count": null,
   "id": "e2e27ae8-6edf-437e-98e4-415e5ec101ce",
   "metadata": {},
   "outputs": [],
   "source": []
  },
  {
   "cell_type": "markdown",
   "id": "8b6b1d13-3ce1-43ba-842b-ba4359bd9f66",
   "metadata": {},
   "source": [
    "**Lambda**"
   ]
  },
  {
   "cell_type": "code",
   "execution_count": 9,
   "id": "c077b637-d42e-4329-887d-09d799632731",
   "metadata": {},
   "outputs": [
    {
     "name": "stdout",
     "output_type": "stream",
     "text": [
      "['bird', 'cat', 'dog', 'mouse', 'pig']\n",
      "['cat', 'pig', 'dog', 'bird', 'mouse']\n"
     ]
    }
   ],
   "source": [
    "# sorting\n",
    "Ls1 = ['cat', 'mouse', 'pig', 'dog', 'bird']\n",
    "Ls2 = sorted(Ls1)\n",
    "Ls3 = sorted(Ls1, key = lambda x: len(x))\n",
    "print(Ls2) # ['bird', 'cat', 'dog', 'mouse', 'pig'] 照字母排序\n",
    "print(Ls3) # ['cat', 'pig', 'dog', 'bird', 'mouse'] 照字數排序"
   ]
  },
  {
   "cell_type": "code",
   "execution_count": 14,
   "id": "bdc53e91-e442-4c8f-9631-0c6a7ae1bc10",
   "metadata": {},
   "outputs": [
    {
     "name": "stdout",
     "output_type": "stream",
     "text": [
      "['7.1', '54', ' 88', '123', '000999']\n"
     ]
    }
   ],
   "source": [
    "import pandas as pd\n",
    "L1 = ['123', '000999', '54', '7.1', ' 88']\n",
    "L2 = sorted(L1, key = lambda x: pd.to_numeric(x) )\n",
    "print(L2) # ['7.1', '54', ' 88 ', '123', '000999']"
   ]
  },
  {
   "cell_type": "code",
   "execution_count": 19,
   "id": "9071ba60-b138-4251-990c-ca5dee18c7f5",
   "metadata": {},
   "outputs": [
    {
     "data": {
      "text/plain": [
       "'Index out of range'"
      ]
     },
     "execution_count": 19,
     "metadata": {},
     "output_type": "execute_result"
    }
   ],
   "source": [
    "# 練習1：矩陣內乘的 Function\n",
    "def innerproduct(L1, L2, start, stop):\n",
    "    try:\n",
    "        len(L1)< stop-start\n",
    "        len(L2)< stop-start # 若L1, L2長度 < 擷取元素個數：跳到 except，輸出 'Index out of range'\n",
    "        L3 = [L1[i]*L2[i] for i in range(start, stop)] # 做矩陣內乘\n",
    "        return L3\n",
    "    except:\n",
    "        return ('Index out of range')\n",
    "    \n",
    "\n",
    "L1 = [10,20,30]\n",
    "L2 = [1,2,4]\n",
    "L3 = innerproduct(L1, L2, 0, 4)\n",
    "L3"
   ]
  },
  {
   "cell_type": "code",
   "execution_count": 44,
   "id": "ff37f34a-a078-4531-bf11-845041257ce2",
   "metadata": {},
   "outputs": [
    {
     "data": {
      "text/plain": [
       "('i', 4, 'beautiful', 9)"
      ]
     },
     "execution_count": 44,
     "metadata": {},
     "output_type": "execute_result"
    }
   ],
   "source": [
    "# 練習2：\n",
    "# • 'analyze' Function 讀取字串並回傳：1. 出現頻率最高的字母、2. 出現次數、3.最長的字、4.最長字的字長\n",
    "def analyze(string):\n",
    "    strings = string.lower() #將所有字母轉小寫\n",
    "    \n",
    "    frequencies = {}\n",
    "    for s in strings: # 統計字母出現的次數\n",
    "        if s not in frequencies:\n",
    "            frequencies[s]=1\n",
    "        else:\n",
    "            frequencies[s]+=1\n",
    "    MaxF = max(frequencies.values()) # 字母出現最高的頻率\n",
    "    MostLetter = list (frequencies.keys()) [list (frequencies.values()).index (MaxF)]  # 出現頻率最高 = (MaxF) 的字母是 'o'\n",
    "    \n",
    "    s2 = strings.split(\" \")  # 將字串斷字\n",
    "    letters = {}\n",
    "    for word in s2:\n",
    "        letters[word] = len(word) # 統計每個單字的字母數\n",
    "    MaxW = max(letters.values()) # 字母出現最高的頻率\n",
    "    LongestWord = list (letters.keys()) [list (letters.values()).index (MaxW)]  # 字母數最多 = (MaxW) 的單字是 'LongestWord '\n",
    "    return(MostLetter, MaxF, LongestWord, MaxW)\n",
    "\n",
    "# 驗收成果無誤\n",
    "analyze('YingYi is beautiful')\n",
    "\n",
    "\n",
    "\n",
    "# 本題補充，方法二：用set抓出string中所有不重複的字母，再用 list.count(i) 計算出現次數\n",
    "string = 'yingyi is beautiful'\n",
    "s = set(string)\n",
    "print(s) #{'y', 'u', 'b', 'e', ' ', 'a', 'n', 't', 'i', 's', 'g', 'f', 'l'}\n",
    "\n",
    "L1 = [4, 4, 5, 2, 5, 2, 5, 2]\n",
    "print( L1.count(4) ) # 2"
   ]
  },
  {
   "cell_type": "code",
   "execution_count": null,
   "id": "4c90ef5b-41f9-4c48-9502-04de11089813",
   "metadata": {},
   "outputs": [],
   "source": []
  },
  {
   "cell_type": "markdown",
   "id": "acf839ae-e9e6-4d2a-adc0-581b75b87a1f",
   "metadata": {},
   "source": [
    "**Map**"
   ]
  },
  {
   "cell_type": "code",
   "execution_count": 57,
   "id": "edf0d264-5c0d-4fb6-8646-598966092796",
   "metadata": {},
   "outputs": [
    {
     "name": "stdout",
     "output_type": "stream",
     "text": [
      "<map object at 0x00000242BA94EC48>\n",
      "[1, 4, 9, 16, 25]\n"
     ]
    }
   ],
   "source": [
    "def sqare(x):\n",
    "    return x * x\n",
    "\n",
    "L = [1, 2, 3, 4, 5]\n",
    "\n",
    "M = map(sqare, L)\n",
    "print(M) # <map object at 0x00000242BA93B648>\n",
    "\n",
    "ML = list(M)\n",
    "print(ML) # [1, 4, 8, 16, 25]"
   ]
  },
  {
   "cell_type": "code",
   "execution_count": 67,
   "id": "530a2b2a-c637-4d74-a169-a54bf579f2d2",
   "metadata": {},
   "outputs": [
    {
     "name": "stdout",
     "output_type": "stream",
     "text": [
      "[2, 5, 8, 1, 9, 2, 5, 2]\n",
      "set()\n",
      "{1, 2, 5, 8, 9}\n"
     ]
    }
   ],
   "source": [
    "s = '2 5 8 1 9 2 5 2'\n",
    "M = map(int, s.split()) \n",
    "ML = list(M)\n",
    "print(ML) #[2, 5, 8, 1, 9, 2, 5, 2]\n",
    "\n",
    "MS = set(M)\n",
    "print(MS) # set()\n",
    "\n",
    "MS = set(map(int, s.split()))\n",
    "print(MS) #{1, 2, 5, 8, 9}"
   ]
  },
  {
   "cell_type": "code",
   "execution_count": null,
   "id": "f7604244-f475-46db-bb03-6868ad9a2842",
   "metadata": {},
   "outputs": [],
   "source": []
  }
 ],
 "metadata": {
  "kernelspec": {
   "display_name": "py37",
   "language": "python",
   "name": "env_name"
  },
  "language_info": {
   "codemirror_mode": {
    "name": "ipython",
    "version": 3
   },
   "file_extension": ".py",
   "mimetype": "text/x-python",
   "name": "python",
   "nbconvert_exporter": "python",
   "pygments_lexer": "ipython3",
   "version": "3.7.10"
  }
 },
 "nbformat": 4,
 "nbformat_minor": 5
}
