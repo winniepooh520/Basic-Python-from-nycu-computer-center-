{
 "cells": [
  {
   "cell_type": "code",
   "execution_count": 3,
   "metadata": {},
   "outputs": [
    {
     "name": "stdout",
     "output_type": "stream",
     "text": [
      "False\n",
      "True\n",
      "True\n"
     ]
    }
   ],
   "source": [
    "x = 1\n",
    "y = 2\n",
    "print(x>y)\n",
    "print(not(x>y))  #not False → True\n",
    "print(x!=y)\n"
   ]
  },
  {
   "cell_type": "code",
   "execution_count": 5,
   "metadata": {},
   "outputs": [
    {
     "name": "stdout",
     "output_type": "stream",
     "text": [
      "True\n",
      "True\n"
     ]
    }
   ],
   "source": [
    "x = 5 \n",
    "print(x>0 or x<10)\n",
    "print(not(x<0 or x>10))"
   ]
  },
  {
   "cell_type": "code",
   "execution_count": 8,
   "metadata": {},
   "outputs": [
    {
     "name": "stdout",
     "output_type": "stream",
     "text": [
      "True\n",
      "False\n",
      "False\n",
      "True\n"
     ]
    }
   ],
   "source": [
    "# in \n",
    "# not in\n",
    "L = [1, 2, 3, 4, 5]\n",
    "\n",
    "print(3 in L)\n",
    "print(6 in L)\n",
    "\n",
    "print(3 not in L)\n",
    "print(6 not in L)"
   ]
  },
  {
   "cell_type": "code",
   "execution_count": 15,
   "metadata": {},
   "outputs": [
    {
     "name": "stdout",
     "output_type": "stream",
     "text": [
      "True\n",
      "False\n",
      "True\n",
      "True\n"
     ]
    }
   ],
   "source": [
    "# is\n",
    "# is not\n",
    "L1 = [1]\n",
    "L2 = [1]\n",
    "L3 = L1\n",
    "\n",
    "print(L1 is L1)   \n",
    "print(L1 is L2)\n",
    "print(L1 is L3)\n",
    "\n",
    "print(L1 is not L2)\n",
    "# Do not use is to compare any two integers!\n",
    "# Do not use is to compare any two strings!"
   ]
  },
  {
   "cell_type": "code",
   "execution_count": 14,
   "metadata": {},
   "outputs": [
    {
     "name": "stdout",
     "output_type": "stream",
     "text": [
      "True\n",
      "False\n",
      "True\n"
     ]
    }
   ],
   "source": [
    "# Notice that all small integers between -5 to 256, including -5 and 256, are default objects\n",
    "# Do not use is to compare any two integers!\n",
    "x = 256\n",
    "y = 0\n",
    "z = x + y\n",
    "print( x is x ) # True\n",
    "print( x is y ) # False\n",
    "print( x is z ) # True, why?  <= 256 放於此數值得位址  不會為小數值配置記憶體空間"
   ]
  },
  {
   "cell_type": "code",
   "execution_count": 16,
   "metadata": {},
   "outputs": [
    {
     "name": "stdout",
     "output_type": "stream",
     "text": [
      "True\n",
      "True\n"
     ]
    },
    {
     "name": "stdin",
     "output_type": "stream",
     "text": [
      " hi\n",
      " hi\n"
     ]
    },
    {
     "name": "stdout",
     "output_type": "stream",
     "text": [
      "False\n"
     ]
    }
   ],
   "source": [
    "# Do not use is to compare any two strings!\n",
    "s1 = 'Hello'\n",
    "s2 = 'Hello'\n",
    "print( s1 is s1 ) # True\n",
    "print( s1 is s2 ) # True\n",
    "\n",
    "s1 = input()\n",
    "s2 = input()\n",
    "print( s1 is s2 ) # False"
   ]
  },
  {
   "cell_type": "code",
   "execution_count": 25,
   "metadata": {},
   "outputs": [
    {
     "name": "stdin",
     "output_type": "stream",
     "text": [
      "input an integer: 101\n"
     ]
    },
    {
     "name": "stdout",
     "output_type": "stream",
     "text": [
      "101 is odd\n"
     ]
    }
   ],
   "source": [
    "x = int(input(\"input an integer:\"))\n",
    "if(x&1) ==0 : #若x是雙數，與1的二元and運算會是0\n",
    "    print(x, \"is even\")\n",
    "else:\n",
    "    print(x, \"is odd\")"
   ]
  },
  {
   "cell_type": "code",
   "execution_count": 2,
   "metadata": {},
   "outputs": [
    {
     "name": "stdin",
     "output_type": "stream",
     "text": [
      "input an integer: 3\n"
     ]
    },
    {
     "name": "stdout",
     "output_type": "stream",
     "text": [
      "3 is odd\n"
     ]
    }
   ],
   "source": [
    "x = int(input(\"input an integer:\")) #若x是雙數，與1的二元and運算會是0\n",
    "print(x, \"is even\") if(x&1) ==0 else print(x, \"is odd\")"
   ]
  },
  {
   "cell_type": "code",
   "execution_count": 29,
   "metadata": {},
   "outputs": [
    {
     "name": "stdin",
     "output_type": "stream",
     "text": [
      "Input a score: 59\n"
     ]
    },
    {
     "name": "stdout",
     "output_type": "stream",
     "text": [
      "59 is failed!\n"
     ]
    }
   ],
   "source": [
    "x = int(input('Input a score:'))\n",
    "if x >= 90:\n",
    "    print(x, 'is excellent!')\n",
    "elif x >= 80:\n",
    "    print(x, 'is good!')\n",
    "elif 80 > x >= 60:\n",
    "    print(x, 'is ok!')\n",
    "else:\n",
    "    print(x, 'is failed!')"
   ]
  },
  {
   "cell_type": "code",
   "execution_count": 34,
   "metadata": {},
   "outputs": [
    {
     "name": "stdin",
     "output_type": "stream",
     "text": [
      "Input a score: 49\n"
     ]
    },
    {
     "name": "stdout",
     "output_type": "stream",
     "text": [
      "49 is failed!\n"
     ]
    }
   ],
   "source": [
    "# Nested if-elif-else \n",
    "x = int(input('Input a score:'))\n",
    "if x >= 60:\n",
    "    print('Pass!')\n",
    "    if x >= 90:\n",
    "        print(x, 'is excellent!')\n",
    "    elif x >= 80:\n",
    "        print(x, 'is good!')\n",
    "    else:\n",
    "        print(x, 'is ok!')\n",
    "else:\n",
    "    if x >= 50:\n",
    "        print(x, 'still has a chance.')\n",
    "    else:\n",
    "        print(x, 'is failed!')"
   ]
  },
  {
   "cell_type": "code",
   "execution_count": 35,
   "metadata": {},
   "outputs": [
    {
     "name": "stdin",
     "output_type": "stream",
     "text": [
      "input a number: 90\n"
     ]
    },
    {
     "name": "stdout",
     "output_type": "stream",
     "text": [
      "Pass\n"
     ]
    }
   ],
   "source": [
    "# conditional expressions\n",
    "x = int(input(\"input a number:\"))\n",
    "print(\"Pass\") if x>=60 else print(\"Failed\")"
   ]
  },
  {
   "cell_type": "code",
   "execution_count": 38,
   "metadata": {},
   "outputs": [
    {
     "name": "stdin",
     "output_type": "stream",
     "text": [
      "input a score: 89\n"
     ]
    },
    {
     "name": "stdout",
     "output_type": "stream",
     "text": [
      "89\n"
     ]
    }
   ],
   "source": [
    "x = int(input(\"input a score:\"))\n",
    "x = 100 if x>90 else x\n",
    "print(x)"
   ]
  },
  {
   "cell_type": "code",
   "execution_count": 39,
   "metadata": {},
   "outputs": [
    {
     "name": "stdin",
     "output_type": "stream",
     "text": [
      "Input a score: 91\n"
     ]
    },
    {
     "name": "stdout",
     "output_type": "stream",
     "text": [
      "101\n"
     ]
    }
   ],
   "source": [
    "x = int(input('Input a score:'))\n",
    "x += 10 if x > 90 else x\n",
    "print(x)"
   ]
  },
  {
   "cell_type": "code",
   "execution_count": 40,
   "metadata": {},
   "outputs": [
    {
     "name": "stdin",
     "output_type": "stream",
     "text": [
      "Input a score: 91\n"
     ]
    },
    {
     "name": "stdout",
     "output_type": "stream",
     "text": [
      "101\n"
     ]
    }
   ],
   "source": [
    "x = int(input('Input a score:'))\n",
    "x += (10 if x > 90 else 0)\n",
    "print(x)"
   ]
  },
  {
   "cell_type": "code",
   "execution_count": 42,
   "metadata": {},
   "outputs": [
    {
     "name": "stdin",
     "output_type": "stream",
     "text": [
      "Input a string: NWC\n"
     ]
    },
    {
     "name": "stdout",
     "output_type": "stream",
     "text": [
      "2\n"
     ]
    }
   ],
   "source": [
    "s = input('Input a string:')\n",
    "s = \"NHWC\" if s == \"NWC\" else \"NCHW\"\n",
    "d = 1 if s == \"NWC\" else 2\n",
    "print(d)"
   ]
  },
  {
   "cell_type": "code",
   "execution_count": 60,
   "metadata": {},
   "outputs": [
    {
     "name": "stdin",
     "output_type": "stream",
     "text": [
      "Enter number one: 30\n",
      "Enter number two: 40\n",
      "Enter number three: 5\n",
      "Enter number four: 20\n"
     ]
    },
    {
     "name": "stdout",
     "output_type": "stream",
     "text": [
      "[30, 40, 5, 20]\n",
      "[5, 20, 30, 40]\n",
      "20\n"
     ]
    }
   ],
   "source": [
    "# Finding the median from four numbers without any loop and calling sort().\n",
    "# For example:\n",
    "# • 30, 40, 5, 20\n",
    "#     • The median is 20\n",
    "# • 2, 3, 2, 3 \n",
    "#     • The median is 2\n",
    "# • 3, 2, 3, 3\n",
    "#     • The median is 3\n",
    "\n",
    "L = [0,0,0,0]\n",
    "L[0] = int(input(\"Enter number one:\"))\n",
    "L[1] = int(input(\"Enter number two:\"))\n",
    "L[2] = int(input(\"Enter number three:\"))\n",
    "L[3] = int(input(\"Enter number four:\"))\n",
    "print(L)\n",
    "\n",
    "# 手打4次LOOP\n",
    "if L[0]>L[1]:\n",
    "    L[0],L[1] = L[1],L[0]\n",
    "if L[1]>L[2]:\n",
    "        L[1],L[2] = L[2],L[1]\n",
    "if L[2]>L[3]:\n",
    "            L[2],L[3] = L[3],L[2]\n",
    "if L[0]>L[1]:\n",
    "    L[0],L[1] = L[1],L[0]\n",
    "if L[1]>L[2]:\n",
    "        L[1],L[2] = L[2],L[1]\n",
    "if L[2]>L[3]:\n",
    "            L[2],L[3] = L[3],L[2]\n",
    "if L[0]>L[1]:\n",
    "    L[0],L[1] = L[1],L[0]\n",
    "if L[1]>L[2]:\n",
    "        L[1],L[2] = L[2],L[1]\n",
    "if L[2]>L[3]:\n",
    "            L[2],L[3] = L[3],L[2]\n",
    "if L[0]>L[1]:\n",
    "    L[0],L[1] = L[1],L[0]\n",
    "if L[1]>L[2]:\n",
    "        L[1],L[2] = L[2],L[1]\n",
    "if L[2]>L[3]:\n",
    "            L[2],L[3] = L[3],L[2]\n",
    "print(L)\n",
    "print(L[1])"
   ]
  },
  {
   "cell_type": "code",
   "execution_count": 84,
   "metadata": {},
   "outputs": [
    {
     "name": "stdin",
     "output_type": "stream",
     "text": [
      "Input a number:  p\n"
     ]
    },
    {
     "name": "stdout",
     "output_type": "stream",
     "text": [
      "p is not a number!\n"
     ]
    }
   ],
   "source": [
    "# try-except statement\n",
    "s = input('Input a number: ')\n",
    "try:\n",
    "    x = float(s)\n",
    "    print(x, 'is a number.')  # This line won't be run if an error happened during the running of x = float(s)\n",
    "except ValueError:  \n",
    "    print(s, 'is not a number!') \n",
    "# ValueError is a built-in exception object, it raised when a built-in operation or function receives an argument that has the right type \n",
    "# but an inappropriate value.    "
   ]
  },
  {
   "cell_type": "code",
   "execution_count": 110,
   "metadata": {},
   "outputs": [
    {
     "name": "stdin",
     "output_type": "stream",
     "text": [
      "Input x:  9\n"
     ]
    },
    {
     "name": "stdout",
     "output_type": "stream",
     "text": [
      "9 is an integer.\n"
     ]
    },
    {
     "name": "stdin",
     "output_type": "stream",
     "text": [
      "Input y:  z\n"
     ]
    },
    {
     "name": "stdout",
     "output_type": "stream",
     "text": [
      "x or y is not an integer!\n"
     ]
    }
   ],
   "source": [
    "#  ZeroDivisionError: Raised when the second argument of a division or modulo operation is zero\n",
    "try:\n",
    "    x = int(input('Input x: '))\n",
    "    print(x, 'is an integer.')\n",
    "    y = int(input('Input y: '))\n",
    "    print(y, 'is an integer.')\n",
    "    z = x / y\n",
    "    print(z)\n",
    "except ValueError:\n",
    "    print('x or y is not an integer!')\n",
    "except ZeroDivisionError:\n",
    "    print('x divided by zero!')"
   ]
  },
  {
   "cell_type": "code",
   "execution_count": 75,
   "metadata": {},
   "outputs": [
    {
     "name": "stdin",
     "output_type": "stream",
     "text": [
      "Input x:  p\n"
     ]
    },
    {
     "name": "stdout",
     "output_type": "stream",
     "text": [
      "An error occurred!\n"
     ]
    }
   ],
   "source": [
    "try:\n",
    "    x = int(input('Input x: '))\n",
    "    print(x, 'is an integer.')\n",
    "    y = int(input('Input y: '))\n",
    "    print(y, 'is an integer.')\n",
    "    z = x / y\n",
    "    print(z)\n",
    "except:\n",
    "    print('An error occurred!')"
   ]
  },
  {
   "cell_type": "code",
   "execution_count": 142,
   "metadata": {},
   "outputs": [
    {
     "name": "stdin",
     "output_type": "stream",
     "text": [
      "Input x:  9\n",
      "Input y:  6\n"
     ]
    },
    {
     "name": "stdout",
     "output_type": "stream",
     "text": [
      "15\n"
     ]
    }
   ],
   "source": [
    "try:\n",
    "    s = input('Input x: ')\n",
    "    x = int(s)\n",
    "except ValueError:\n",
    "    x = s\n",
    "try:\n",
    "    s = input('Input y: ')\n",
    "    y = int(s)\n",
    "except ValueError:\n",
    "    y = s\n",
    "try:\n",
    "    z = x + y\n",
    "    print(z)\n",
    "except TypeError:\n",
    "    print('x and y are different types!')"
   ]
  },
  {
   "cell_type": "code",
   "execution_count": 154,
   "metadata": {},
   "outputs": [
    {
     "name": "stdin",
     "output_type": "stream",
     "text": [
      "Input x:  9\n",
      "Input y:  p\n"
     ]
    },
    {
     "name": "stdout",
     "output_type": "stream",
     "text": [
      "9\n"
     ]
    }
   ],
   "source": [
    "\"\"\"\n",
    "Exercise課堂作業\n",
    "\n",
    "• Design a program that allows a user to input two data x and y\n",
    "• If x and y can regarded a two float numbers, sum their absolute values\n",
    "• If x and y are string, sum their of lengths\n",
    "• You can use len(s) to obtain the length of a string s.\n",
    "• If x is a number but y is a string, returns x.\n",
    "• If x is a string but y is a number, returns x + str(y).\n",
    "HW P.22\n",
    "若兩者輸入皆是數值 將兩個取絕對值相加\n",
    "若兩者輸入皆是字串 把兩者長度相加\n",
    "若x數值 y為字串 顯示數字\n",
    "若x字串 y為數值 顯示字串加數字\n",
    "老師說用except做呦～\n",
    "\"\"\"\n",
    "try: # 若X為數值\n",
    "    x = input('Input x: ')\n",
    "    x = int(x)\n",
    "    try:\n",
    "        y = input('Input y: ') #若y為數值\n",
    "        y = int(y)\n",
    "        z = abs(x)+abs(y)\n",
    "    except ValueError: #若y為字串\n",
    "        z = x        \n",
    "except ValueError: # 若X為字串\n",
    "    try:\n",
    "        y = input('Input y: ') #若x為字串, y為數值\n",
    "        y=int(y)\n",
    "        z = x + str(y)\n",
    "    except ValueError: #若x,y為字串\n",
    "        z = len(x)+len(y)\n",
    "\n",
    "print(z)"
   ]
  },
  {
   "cell_type": "code",
   "execution_count": 1,
   "metadata": {},
   "outputs": [],
   "source": [
    "import plotly.graph_objects as go\n",
    "fig = go.Figure(data=go.Bar(y=[2, 3, 1]))\n",
    "fig.write_html('first_figure.html', auto_open=True)"
   ]
  },
  {
   "cell_type": "markdown",
   "metadata": {},
   "source": [
    "**<br>Lesson 4</br>**\n",
    "03_IterationStatement"
   ]
  },
  {
   "cell_type": "code",
   "execution_count": 1,
   "metadata": {},
   "outputs": [
    {
     "name": "stdin",
     "output_type": "stream",
     "text": [
      "enter a positive integer: 9\n"
     ]
    },
    {
     "name": "stdout",
     "output_type": "stream",
     "text": [
      "9\n",
      "8\n",
      "7\n",
      "6\n",
      "5\n",
      "4\n",
      "3\n",
      "2\n",
      "1\n"
     ]
    }
   ],
   "source": [
    "#  For example, print the numbers from n to 1. \n",
    "n = int(input(\"enter a positive integer:\"))\n",
    "while n>0:\n",
    "    print(n)\n",
    "    n-=1"
   ]
  },
  {
   "cell_type": "code",
   "execution_count": 3,
   "metadata": {},
   "outputs": [
    {
     "name": "stdin",
     "output_type": "stream",
     "text": [
      "enter a positive integer: 5\n"
     ]
    },
    {
     "name": "stdout",
     "output_type": "stream",
     "text": [
      "1\n",
      "2\n",
      "3\n",
      "4\n",
      "5\n"
     ]
    }
   ],
   "source": [
    "# Let’s try it, print the numbers from 1 to n\n",
    "n = int(input(\"enter a positive integer:\"))\n",
    "i = 1\n",
    "while i<=n:\n",
    "    print(i)\n",
    "    i+=1"
   ]
  },
  {
   "cell_type": "code",
   "execution_count": 5,
   "metadata": {},
   "outputs": [
    {
     "name": "stdin",
     "output_type": "stream",
     "text": [
      "enter a positive integer: 3\n"
     ]
    },
    {
     "name": "stdout",
     "output_type": "stream",
     "text": [
      "6\n"
     ]
    }
   ],
   "source": [
    "# the factorial of n: 𝑛! = 1 × 2 × ⋯ × (𝑛 − 1) × 𝑛\n",
    "n = int(input(\"enter a positive integer:\"))\n",
    "fac = 1\n",
    "\n",
    "while n>0:\n",
    "    fac = fac*n\n",
    "    n-=1\n",
    "print(fac)"
   ]
  },
  {
   "cell_type": "code",
   "execution_count": 48,
   "metadata": {},
   "outputs": [
    {
     "name": "stdin",
     "output_type": "stream",
     "text": [
      "enter a positive integer: 10\n"
     ]
    },
    {
     "name": "stdout",
     "output_type": "stream",
     "text": [
      "2 1\n",
      "8 3\n",
      "48 15\n",
      "384 105\n",
      "3840 945\n"
     ]
    }
   ],
   "source": [
    "# given an integer n and n > 1, design a while loop to compute α and β, where \n",
    "# 𝛼 = 2 × 4 × 6 × ⋯ × (𝑛 − 𝑛%2)\n",
    "# 𝛽 = 1 × 3 × 5 × ⋯ × (𝑛 − 1 + 𝑛%2)\n",
    "n = int(input(\"enter a positive integer:\"))\n",
    "a = 1\n",
    "b = 1\n",
    "i = 1\n",
    "if n&1==1:\n",
    "    while i <=n//2:\n",
    "        a = a*(i*2)\n",
    "        b = b*(i*2+1)\n",
    "        i+=1\n",
    "        print(a,b)\n",
    "if n&1==0:\n",
    "    while i <=n//2:\n",
    "        a = a*(i*2)\n",
    "        b = b*(i*2-1)\n",
    "        i+=1\n",
    "        print(a,b)        \n",
    "\n"
   ]
  },
  {
   "cell_type": "code",
   "execution_count": 54,
   "metadata": {},
   "outputs": [
    {
     "name": "stdin",
     "output_type": "stream",
     "text": [
      "enter a positive integer: 16\n"
     ]
    },
    {
     "name": "stdout",
     "output_type": "stream",
     "text": [
      "8\n",
      "4\n",
      "2\n",
      "1\n"
     ]
    }
   ],
   "source": [
    "#  given an integer n and n > 1, design a while loop to generate a series of numbers by the following rule.\n",
    "# 1. if n is even  n = n // 2  print n\n",
    "# 2. otherwise  n = n – 1  print n\n",
    "# 3. repeat 1. until n <= 1\n",
    "n = int(input(\"enter a positive integer:\"))\n",
    "while n >1:\n",
    "    if n&1==0:\n",
    "        n = n//2    \n",
    "        print(n)\n",
    "    else:\n",
    "        n = n-1\n",
    "        print(n)"
   ]
  },
  {
   "cell_type": "code",
   "execution_count": null,
   "metadata": {},
   "outputs": [],
   "source": [
    "# while in another while loop: print 9*9乘法表\n",
    "x = 1\n",
    "while x <= 9:\n",
    "    y = 1\n",
    "    while y <= 9:\n",
    "        print(x, ' * ', y, ' = ', x * y)\n",
    "        y = y + 1\n",
    "    x = x + 1"
   ]
  },
  {
   "cell_type": "code",
   "execution_count": 111,
   "metadata": {},
   "outputs": [
    {
     "name": "stdin",
     "output_type": "stream",
     "text": [
      "Input size of x:  3\n",
      "Input size of y:  7\n"
     ]
    },
    {
     "name": "stdout",
     "output_type": "stream",
     "text": [
      "oxo\n",
      "xox\n",
      "oxo\n",
      "xox\n",
      "oxo\n",
      "xox\n",
      "oxo\n",
      "\n"
     ]
    }
   ],
   "source": [
    "#  Design a two-layer while statement to generate the following result:\n",
    "# OXOXO\n",
    "# XOXOX\n",
    "# OXOXO\n",
    "# XOXOX\n",
    "# OXOXO\n",
    "size_x = int(input('Input size of x: '))\n",
    "size_y = int(input('Input size of y: '))\n",
    "i = 1\n",
    "word = \"\"\n",
    "while i <=size_y: \n",
    "    j = 1\n",
    "    while j <=size_x:\n",
    "        if ((i+j)%2==0):\n",
    "            word+=\"o\"\n",
    "        if ((i+j)%2!=0):\n",
    "            word+=\"x\"\n",
    "        j+=1\n",
    "    word+=\"\\n\"\n",
    "    i+=1\n",
    "    \n",
    "print(word)           "
   ]
  },
  {
   "cell_type": "code",
   "execution_count": 150,
   "metadata": {},
   "outputs": [
    {
     "name": "stdin",
     "output_type": "stream",
     "text": [
      "enter a word: 9\n"
     ]
    },
    {
     "name": "stdout",
     "output_type": "stream",
     "text": [
      "9\n",
      "<class 'str'>\n"
     ]
    },
    {
     "name": "stdin",
     "output_type": "stream",
     "text": [
      "enter a word: 8\n"
     ]
    },
    {
     "name": "stdout",
     "output_type": "stream",
     "text": [
      "8\n",
      "<class 'str'>\n"
     ]
    },
    {
     "name": "stdin",
     "output_type": "stream",
     "text": [
      "enter a word: quit\n"
     ]
    }
   ],
   "source": [
    "#  Design a while loop that allows a user to input any text until the user input 'quit' or 'exit'.\n",
    "word = input(\"enter a word:\")\n",
    "while word!='':\n",
    "    if word==\"quit\" or word =='exit':\n",
    "        break\n",
    "#     if word =='exit':\n",
    "#         break\n",
    "    print(word)\n",
    "    print(type(word))\n",
    "    word = input(\"enter a word:\")"
   ]
  },
  {
   "cell_type": "code",
   "execution_count": 166,
   "metadata": {},
   "outputs": [
    {
     "name": "stdin",
     "output_type": "stream",
     "text": [
      "enter a word: 9\n"
     ]
    },
    {
     "name": "stdout",
     "output_type": "stream",
     "text": [
      "9\n"
     ]
    },
    {
     "name": "stdin",
     "output_type": "stream",
     "text": [
      "enter a word: 8\n"
     ]
    },
    {
     "name": "stdout",
     "output_type": "stream",
     "text": [
      "8\n"
     ]
    },
    {
     "name": "stdin",
     "output_type": "stream",
     "text": [
      "enter a word: quit\n"
     ]
    },
    {
     "name": "stdout",
     "output_type": "stream",
     "text": [
      "0\n"
     ]
    }
   ],
   "source": [
    "#  Design a while loop that allows a user to input any text until the user input 'quit' or 'exit'.\n",
    "# • But, the user may input many numbers, so you have to sum all input numbers.\n",
    "# • Use continue to skip non-number text.\n",
    "# • Then, print the sum after the while loop is end.\n",
    "su = 0\n",
    "word = input(\"enter a word:\")\n",
    "while True:\n",
    "    if word==\"quit\" or word =='exit':\n",
    "        break\n",
    "    print(word)\n",
    "    \n",
    "    if int(word)==True:\n",
    "        su+=word\n",
    "        print(su)\n",
    "    word = input(\"enter a word:\")\n",
    "\n",
    "print(su)\n",
    "    "
   ]
  },
  {
   "cell_type": "code",
   "execution_count": null,
   "metadata": {},
   "outputs": [],
   "source": []
  }
 ],
 "metadata": {
  "kernelspec": {
   "display_name": "py37",
   "language": "python",
   "name": "env_name"
  },
  "language_info": {
   "codemirror_mode": {
    "name": "ipython",
    "version": 3
   },
   "file_extension": ".py",
   "mimetype": "text/x-python",
   "name": "python",
   "nbconvert_exporter": "python",
   "pygments_lexer": "ipython3",
   "version": "3.7.10"
  }
 },
 "nbformat": 4,
 "nbformat_minor": 4
}
