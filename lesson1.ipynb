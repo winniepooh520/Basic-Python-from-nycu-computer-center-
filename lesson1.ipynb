{
 "cells": [
  {
   "cell_type": "code",
   "execution_count": 1,
   "metadata": {},
   "outputs": [
    {
     "name": "stdout",
     "output_type": "stream",
     "text": [
      "6\n"
     ]
    }
   ],
   "source": [
    "print(1+2+3)"
   ]
  },
  {
   "cell_type": "code",
   "execution_count": 4,
   "metadata": {},
   "outputs": [
    {
     "name": "stdout",
     "output_type": "stream",
     "text": [
      "2.5\n"
     ]
    }
   ],
   "source": [
    "print(1+2*3/4)"
   ]
  },
  {
   "cell_type": "code",
   "execution_count": 5,
   "metadata": {},
   "outputs": [
    {
     "name": "stdout",
     "output_type": "stream",
     "text": [
      "12\n",
      "5.0\n",
      "47.0\n"
     ]
    }
   ],
   "source": [
    "x = 10\n",
    "y = 2\n",
    "print(x+y)\n",
    "\n",
    "z = x/y\n",
    "print(z)\n",
    "\n",
    "x = x*z\n",
    "y = y-z\n",
    "print(x+y)"
   ]
  },
  {
   "cell_type": "code",
   "execution_count": 6,
   "metadata": {},
   "outputs": [
    {
     "data": {
      "text/plain": [
       "6"
      ]
     },
     "execution_count": 6,
     "metadata": {},
     "output_type": "execute_result"
    }
   ],
   "source": [
    "a =20//3\n",
    "a"
   ]
  },
  {
   "cell_type": "code",
   "execution_count": null,
   "metadata": {},
   "outputs": [],
   "source": []
  },
  {
   "cell_type": "code",
   "execution_count": 12,
   "metadata": {},
   "outputs": [
    {
     "data": {
      "text/plain": [
       "-1"
      ]
     },
     "execution_count": 12,
     "metadata": {},
     "output_type": "execute_result"
    }
   ],
   "source": [
    "b=0\n",
    "~b #bitwise x\n",
    "#  b   1   2   3.......\n",
    "# ~b  -2  -3  -4......"
   ]
  },
  {
   "cell_type": "code",
   "execution_count": 13,
   "metadata": {},
   "outputs": [
    {
     "name": "stdout",
     "output_type": "stream",
     "text": [
      "X divided by Y is 5.0\n",
      "10 divided by  2 is 5.0\n"
     ]
    }
   ],
   "source": [
    "x = 10\n",
    "y = 2\n",
    "z = x/y\n",
    "print(\"X divided by Y is\", z)\n",
    "print(x, \"divided by\",y,\"is\" ,z)"
   ]
  },
  {
   "cell_type": "code",
   "execution_count": 14,
   "metadata": {},
   "outputs": [
    {
     "name": "stdout",
     "output_type": "stream",
     "text": [
      "X times by Y is 20\n",
      "10 times 2 is 20\n"
     ]
    }
   ],
   "source": [
    "x = 10\n",
    "y = 2\n",
    "z = x*y\n",
    "print(\"X times by Y is\", z)\n",
    "print(x, \"times\",y,\"is\" ,z)"
   ]
  },
  {
   "cell_type": "code",
   "execution_count": 18,
   "metadata": {},
   "outputs": [
    {
     "name": "stdout",
     "output_type": "stream",
     "text": [
      "10,2,20\n",
      "10@@@2@@@20\n"
     ]
    }
   ],
   "source": [
    "print(x,y,z,sep = \",\")\n",
    "print(x,y,z, sep=\"@@@\")"
   ]
  },
  {
   "cell_type": "code",
   "execution_count": 19,
   "metadata": {},
   "outputs": [
    {
     "name": "stdout",
     "output_type": "stream",
     "text": [
      "XYZ ABC\n"
     ]
    }
   ],
   "source": [
    "x = \"XYZ\"\n",
    "y = 'ABC'\n",
    "print(x,y)"
   ]
  },
  {
   "cell_type": "code",
   "execution_count": 22,
   "metadata": {},
   "outputs": [
    {
     "name": "stdout",
     "output_type": "stream",
     "text": [
      "123456\n"
     ]
    }
   ],
   "source": [
    "x = \"123\"\n",
    "y = '456'\n",
    "z = x+y\n",
    "print(z)"
   ]
  },
  {
   "cell_type": "code",
   "execution_count": 25,
   "metadata": {},
   "outputs": [
    {
     "name": "stdout",
     "output_type": "stream",
     "text": [
      "'\n"
     ]
    }
   ],
   "source": [
    "x = \"\\'\"\n",
    "print(x)"
   ]
  },
  {
   "cell_type": "code",
   "execution_count": null,
   "metadata": {},
   "outputs": [],
   "source": []
  },
  {
   "cell_type": "code",
   "execution_count": 27,
   "metadata": {},
   "outputs": [
    {
     "name": "stdout",
     "output_type": "stream",
     "text": [
      "\"\n"
     ]
    }
   ],
   "source": [
    "x = '\\\"'\n",
    "print(x)"
   ]
  },
  {
   "cell_type": "code",
   "execution_count": 28,
   "metadata": {},
   "outputs": [
    {
     "name": "stdout",
     "output_type": "stream",
     "text": [
      "ABC\tXYZ\n"
     ]
    }
   ],
   "source": [
    "x = 'ABC\\tXYZ'\n",
    "print(x)"
   ]
  },
  {
   "cell_type": "code",
   "execution_count": 29,
   "metadata": {},
   "outputs": [
    {
     "name": "stdout",
     "output_type": "stream",
     "text": [
      "ABC\n",
      "XYZ\n"
     ]
    }
   ],
   "source": [
    "x = 'ABC\\nXYZ'\n",
    "print(x)"
   ]
  },
  {
   "cell_type": "code",
   "execution_count": 30,
   "metadata": {},
   "outputs": [
    {
     "name": "stdout",
     "output_type": "stream",
     "text": [
      "10\t2\t5.0\n"
     ]
    }
   ],
   "source": [
    "x = 10\n",
    "y = 2\n",
    "z = x/y\n",
    "print(x,y,z,sep = \"\\t\")"
   ]
  },
  {
   "cell_type": "code",
   "execution_count": 39,
   "metadata": {},
   "outputs": [
    {
     "name": "stdout",
     "output_type": "stream",
     "text": [
      "10\n",
      "2\n",
      "5.0\n"
     ]
    }
   ],
   "source": [
    "x = 10\n",
    "y = 2\n",
    "z = x/y\n",
    "print(x,y,z,sep = \"\\n\")"
   ]
  },
  {
   "cell_type": "code",
   "execution_count": 40,
   "metadata": {},
   "outputs": [
    {
     "name": "stdout",
     "output_type": "stream",
     "text": [
      "10//2=5\n"
     ]
    }
   ],
   "source": [
    "x = 10\n",
    "y = 2\n",
    "z = x//y\n",
    "print(x, end = \"//\") # end的預設是換行，在這裡更換，使能印出//  而不會換行\n",
    "print(y, end = \"=\")\n",
    "print(z)"
   ]
  },
  {
   "cell_type": "code",
   "execution_count": 55,
   "metadata": {},
   "outputs": [
    {
     "name": "stdout",
     "output_type": "stream",
     "text": [
      "10 >> 2 >> 5.0 >> 20 [OK]"
     ]
    }
   ],
   "source": [
    "x= 10\n",
    "y = 2 \n",
    "z = x/y\n",
    "w = x*y\n",
    "print(x,y, z,w, sep = \" >> \", end = \" [OK]\" ,)\n"
   ]
  },
  {
   "cell_type": "code",
   "execution_count": 43,
   "metadata": {},
   "outputs": [
    {
     "name": "stdout",
     "output_type": "stream",
     "text": [
      "Input the first string: Hello, Dear, Lesson\n",
      "Hello, Dear, Lesson\n"
     ]
    }
   ],
   "source": [
    "x = input(\"Input the first string: \")\n",
    "print(x)"
   ]
  },
  {
   "cell_type": "code",
   "execution_count": null,
   "metadata": {},
   "outputs": [],
   "source": []
  },
  {
   "cell_type": "code",
   "execution_count": null,
   "metadata": {},
   "outputs": [],
   "source": []
  },
  {
   "cell_type": "code",
   "execution_count": 34,
   "metadata": {},
   "outputs": [
    {
     "data": {
      "text/plain": [
       "9"
      ]
     },
     "execution_count": 34,
     "metadata": {},
     "output_type": "execute_result"
    }
   ],
   "source": [
    "487//50"
   ]
  },
  {
   "cell_type": "code",
   "execution_count": 36,
   "metadata": {},
   "outputs": [
    {
     "name": "stdout",
     "output_type": "stream",
     "text": [
      "50有 9 個\n",
      "10有 3 個\n",
      "5有 0 個\n",
      "1有 3 個\n"
     ]
    }
   ],
   "source": [
    "\"\"\"\n",
    "HW1 Exercise 1\n",
    "\"\"\"\n",
    "price  = 17\n",
    "payment = 500\n",
    "\n",
    "fifties = (payment-price)//50\n",
    "tens = (payment-price-fifties*50)//10\n",
    "fives = (payment-price-fifties*50-tens*10)//5\n",
    "ones = (payment-price-fifties*50-tens*10-fives*5)\n",
    "print(\"50有\",fifties,\"個\")\n",
    "print(\"10有\",tens,\"個\")\n",
    "print(\"5有\",fives,\"個\")\n",
    "print(\"1有\",ones,\"個\")"
   ]
  },
  {
   "cell_type": "code",
   "execution_count": 51,
   "metadata": {},
   "outputs": [
    {
     "name": "stdout",
     "output_type": "stream",
     "text": [
      "Input a coin value: 100\n",
      "100\n",
      "Input a coin value: 50\n",
      "50\n",
      "Input a coin value: 10\n",
      "10\n",
      "Input a coin value: 1\n",
      "1\n",
      "幣值1有 4 個\n",
      "幣值2有 1 個\n",
      "幣值3有 3 個\n",
      "幣值4有 3 個\n"
     ]
    }
   ],
   "source": [
    "\"\"\"\n",
    "HW1 Exercise 2\n",
    "\"\"\"\n",
    "price  = 17\n",
    "payment = 500\n",
    "\n",
    "#輸入幣值\n",
    "coins = [0,0,0,0]\n",
    "for i in range(0,4):\n",
    "    coins[i] = int(input(\"Input a coin value: \"))\n",
    "    print(coins[i])\n",
    "\n",
    "#計算最佳找錢組合\n",
    "fifties = (payment-price)//coins[0]\n",
    "tens = (payment-price-fifties*coins[0])//coins[1]\n",
    "fives = (payment-price-fifties*coins[0]-tens*coins[1])//coins[2]\n",
    "ones = (payment-price-fifties*coins[0]-tens*coins[1]-fives*coins[2])//coins[3]\n",
    "print(\"幣值1有\",fifties,\"個\")\n",
    "print(\"幣值2有\",tens,\"個\")\n",
    "print(\"幣值3有\",fives,\"個\")\n",
    "print(\"幣值4有\",ones,\"個\")"
   ]
  },
  {
   "cell_type": "code",
   "execution_count": 52,
   "metadata": {},
   "outputs": [
    {
     "data": {
      "text/plain": [
       "483"
      ]
     },
     "execution_count": 52,
     "metadata": {},
     "output_type": "execute_result"
    }
   ],
   "source": [
    "4*100+50+3*10+3"
   ]
  },
  {
   "cell_type": "code",
   "execution_count": null,
   "metadata": {},
   "outputs": [],
   "source": []
  },
  {
   "cell_type": "code",
   "execution_count": null,
   "metadata": {},
   "outputs": [],
   "source": []
  },
  {
   "cell_type": "code",
   "execution_count": null,
   "metadata": {},
   "outputs": [],
   "source": []
  },
  {
   "cell_type": "code",
   "execution_count": null,
   "metadata": {},
   "outputs": [],
   "source": []
  }
 ],
 "metadata": {
  "kernelspec": {
   "display_name": "Python 3",
   "language": "python",
   "name": "python3"
  },
  "language_info": {
   "codemirror_mode": {
    "name": "ipython",
    "version": 3
   },
   "file_extension": ".py",
   "mimetype": "text/x-python",
   "name": "python",
   "nbconvert_exporter": "python",
   "pygments_lexer": "ipython3",
   "version": "3.7.7"
  }
 },
 "nbformat": 4,
 "nbformat_minor": 4
}
