{
 "cells": [
  {
   "cell_type": "code",
   "execution_count": null,
   "id": "657fbab1-fe15-4d8b-ad2c-468529526961",
   "metadata": {},
   "outputs": [],
   "source": []
  },
  {
   "cell_type": "code",
   "execution_count": 1,
   "id": "fcfe3078-672b-41f2-80a0-924e62c38714",
   "metadata": {},
   "outputs": [
    {
     "name": "stdout",
     "output_type": "stream",
     "text": [
      "1\n",
      "3\n",
      "[3, 1, 2, 2, 2, 3, 4]\n"
     ]
    }
   ],
   "source": [
    "L = [1, 1, 2, 2, 2, 3, 4]\n",
    "print(L[0])\n",
    "L[0] = L[1] + L[2]\n",
    "print(L[0])\n",
    "print(L)"
   ]
  },
  {
   "cell_type": "code",
   "execution_count": 8,
   "id": "168f2461-dfdc-4e54-9c48-46793fb4de5f",
   "metadata": {},
   "outputs": [
    {
     "name": "stdout",
     "output_type": "stream",
     "text": [
      "['A', 'B', 'C', 99]\n",
      "['A', 'B', 'C', 99, 1, 2, 3]\n",
      "[1, 2, 3]\n",
      "['A', 'X', 'B', 'C']\n"
     ]
    }
   ],
   "source": [
    "L1 = ['A', 'B', 'C']\n",
    "L2 = [1, 2, 3]\n",
    "\n",
    "#append \n",
    "L1.append(99)\n",
    "print(L1)\n",
    "\n",
    "# extend\n",
    "L1.extend(L2)\n",
    "print(L1)\n",
    "print(L2)\n",
    "\n",
    "#insert\n",
    "L = ['A', 'B', 'C']\n",
    "L.insert(1, 'X')\n",
    "print(L)"
   ]
  },
  {
   "cell_type": "code",
   "execution_count": 9,
   "id": "eb4951ee-7f02-414f-8c62-fdafac64e804",
   "metadata": {},
   "outputs": [
    {
     "data": {
      "text/plain": [
       "['A', 'B', 'C', 1, 'D', 2, 'E', 3, 'X', 4, 'Y', 5, 'Z', 'W']"
      ]
     },
     "execution_count": 9,
     "metadata": {},
     "output_type": "execute_result"
    }
   ],
   "source": [
    "\"\"\"\n",
    "練習:\n",
    " Using for loop, list.append, list.extend, and list.insert to \n",
    "merge three lists:\n",
    "• L1 = ['A', 'B', 'C', 'D', 'E']\n",
    "• L2 = ['X', 'Y', 'Z', 'W']\n",
    "• L3 = [1, 2, 3, 4, 5]\n",
    "• Then the output list is \n",
    "['A', 'B', 'C', 1, 'D', 2, 'E', 3, 'X', 4, 'Y', 5, 'Z', 'W']\n",
    "\"\"\"\n",
    "L1 = ['A', 'B', 'C', 'D', 'E']\n",
    "L2 = ['X', 'Y', 'Z', 'W']\n",
    "L3 = [1, 2, 3, 4, 5]\n",
    "# Use: for loop, list.append, list.extend, and list.insert to build New_L = ['A', 'B', 'C', 1, 'D', 2, 'E', 3, 'X', 4, 'Y', 5, 'Z', 'W']\n",
    "\n",
    "L1.extend(L2)\n",
    "for i in range(3,8):\n",
    "    L1.insert(i+(i-3),L3[i-3])\n",
    "L1"
   ]
  },
  {
   "cell_type": "code",
   "execution_count": 15,
   "id": "ff0b009a-21ab-47b2-b5ab-c9756b8c90ab",
   "metadata": {},
   "outputs": [
    {
     "name": "stdout",
     "output_type": "stream",
     "text": [
      "[]\n",
      "[5, 7, 6]\n"
     ]
    }
   ],
   "source": [
    "# clear\n",
    "L = [5, 6, 7]\n",
    "L.clear()\n",
    "print(L) # []\n",
    "\n",
    "# remove\n",
    "L = [5, 6, 7, 6]\n",
    "L.remove(6) # [5, 7, 6]\n",
    "L.remove(6) # [5, 7]\n",
    "# 沒有6的時候，remove(6) 會顯示error，可以透過 try, except避免\n",
    "try: \n",
    "    L.remove(6) # An exception of ValueError thrown.\n",
    "except ValueError:  \n",
    "    L.append(6) \n",
    "    print(L)"
   ]
  },
  {
   "cell_type": "code",
   "execution_count": 19,
   "id": "a16a2a20-af19-40f6-8dee-704ac05ea17d",
   "metadata": {},
   "outputs": [
    {
     "name": "stdout",
     "output_type": "stream",
     "text": [
      "[1, 2, 4, 3, 2, 4, 1]  ==> L[ 0 ] =  1\n",
      "[2, 4, 3, 2, 4]  ==> L[ 1 ] =  4\n",
      "[2, 3, 2]  ==> L[ 2 ] =  2\n"
     ]
    }
   ],
   "source": [
    "# 千萬不要在迴圈裡對list新增或刪除，很容易出錯\n",
    "i=0\n",
    "L = [ 1, 2 ,4 ,3 ,2, 4, 1]\n",
    "for x in L:\n",
    "    print(L, ' ==> L[', i, '] = ', x)\n",
    "    while True:\n",
    "        try:\n",
    "            L.remove(x)\n",
    "        except:\n",
    "            break;\n",
    "    i += 1"
   ]
  },
  {
   "cell_type": "code",
   "execution_count": 22,
   "id": "77fc8dbd-49f5-4f06-a831-3e4cface5b8c",
   "metadata": {},
   "outputs": [
    {
     "name": "stdout",
     "output_type": "stream",
     "text": [
      "[0, 1, 2, 3, 0, 1, 2, 3, 0, 1, 2, 3]\n",
      "[[0, 0, 0], [1, 1, 1], [2, 2, 2], [3, 3, 3]]\n",
      "[[0, 1, 2], [3, 4, 5], [6, 7, 8], [9, 10, 11]]\n"
     ]
    }
   ],
   "source": [
    "# list comprehension\n",
    "L4 = [y for x in range(3) for y in range(4)]\n",
    "print(L4) # [0, 1, 2, 3, 0, 1, 2, 3, 0, 1, 2, 3]\n",
    "\n",
    "L5 = [[y for x in range(3)] for y in range(4)]\n",
    "print(L5) # [[0, 0, 0], [1, 1, 1], [2, 2, 2], [3, 3, 3]]\n",
    "\n",
    "L6 = [[y * 3 + x for x in range(3)] for y in range(4)]\n",
    "print(L6) # [[0, 1, 2], [3, 4, 5], [6, 7, 8], [9, 10, 11]]"
   ]
  },
  {
   "cell_type": "code",
   "execution_count": null,
   "id": "864e1eb3-a2d7-4cae-beef-e35794fc923f",
   "metadata": {},
   "outputs": [],
   "source": [
    "# list comprehension 練習\n",
    "m = 6, n = 3:\n",
    "        [[0, 1, 2], \n",
    "        [5, 4, 3], \n",
    "        [6, 7, 8], \n",
    "        [11, 10, 9], \n",
    "        [12, 13, 14], \n",
    "        [17, 16, 15]]\n",
    "• m = 8, n = 4:\n",
    "        [[0, 1, 2, 3], \n",
    "        [7, 6, 5, 4], \n",
    "        [8, 9, 10, 11], \n",
    "        [15, 14, 13, 12], \n",
    "        [16, 17, 18, 19], \n",
    "        [23, 22, 21, 20], \n",
    "        [24, 25, 26, 27], \n",
    "        [31, 30, 29, 28]]"
   ]
  },
  {
   "cell_type": "code",
   "execution_count": 33,
   "id": "fa241b1a-5482-4091-8271-b3c821d6b74b",
   "metadata": {},
   "outputs": [
    {
     "name": "stdout",
     "output_type": "stream",
     "text": [
      "[[0, 1, 2], [6, 7, 8], [12, 13, 14]]\n",
      "[[5, 4, 3], [11, 10, 9], [17, 16, 15]]\n"
     ]
    }
   ],
   "source": [
    "L1 = [[5*y+y+i for i in range(0,3)] for y in range(3)]\n",
    "L2 = [[5*(y+1)+y-i for i in range(0,3)] for y in range(3)]\n",
    "print(L1)\n",
    "print(L2)"
   ]
  },
  {
   "cell_type": "code",
   "execution_count": 41,
   "id": "19235989-338c-4c85-8b67-bbf0c698b5e7",
   "metadata": {},
   "outputs": [
    {
     "name": "stdin",
     "output_type": "stream",
     "text": [
      "請輸入m的大小(整數)：  6\n",
      "請輸入n的大小(整數)：  3\n"
     ]
    },
    {
     "name": "stdout",
     "output_type": "stream",
     "text": [
      "[[0, 1, 2], [5, 4, 3], [6, 7, 8], [11, 10, 9], [12, 13, 14], [17, 16, 15]]\n"
     ]
    }
   ],
   "source": [
    "#!/usr/bin/env python\n",
    "# coding: utf-8\n",
    "# In[1]:\n",
    "# CH4-p15\n",
    "# In[2]:\n",
    "\n",
    "m = int(input('請輸入m的大小(整數)： '))\n",
    "n = int(input('請輸入n的大小(整數)： '))\n",
    "\n",
    "L = [[y * n + x for x in range(n)][::(-1)**y] for y in range(m)]\n",
    "print(L)\n",
    "\n",
    "# In[ ]:\n"
   ]
  },
  {
   "cell_type": "code",
   "execution_count": null,
   "id": "c25bcfaa-d674-4fd4-8d08-78d77b78fa19",
   "metadata": {},
   "outputs": [],
   "source": [
    "A = {7, 9, 1, 1, 9, 2, 1, 2}\n",
    "print(A) # {9, 2, 1, 7}\n",
    "            # The order is undefined \n",
    "            # because set is unordered\n",
    "print(A[0]) # Error!\n",
    "\n",
    "A = {4, 6, 1, 2, 2, 1, 3}\n",
    "A.add(5)\n",
    "print(len(A)) # 6\n",
    "print(A)      # {1, 2, 3, 4, 5, 6}\n",
    "A.remove(2)\n",
    "print(len(A)) # 5\n",
    "print(A)      # {1, 3, 4, 5, 6}\n",
    "A.clear()\n",
    "print(len(A)) # 0\n",
    "print(A)      # {}\n"
   ]
  },
  {
   "cell_type": "code",
   "execution_count": 55,
   "id": "424d008e-1aac-479f-aa76-bc7cc1912686",
   "metadata": {},
   "outputs": [
    {
     "name": "stdout",
     "output_type": "stream",
     "text": [
      "<enumerate object at 0x00000149CCBB7868>\n",
      "(0, 'ABC')\n",
      "(1, 'DEF')\n",
      "(2, 'GHI')\n",
      "(0, 'DEF')\n",
      "(1, 'GHI')\n",
      "(2, 'ABC')\n"
     ]
    }
   ],
   "source": [
    "L = ['ABC', 'DEF', 'GHI']\n",
    "E = enumerate(L)\n",
    "print(E)\n",
    "for x in E:\n",
    "    print(x)\n",
    "    \n",
    "S = {'ABC', 'DEF', 'GHI'}\n",
    "E = enumerate(S)\n",
    "for x in E:\n",
    "    print(x)"
   ]
  },
  {
   "cell_type": "code",
   "execution_count": null,
   "id": "89477e68-6017-46c4-87cb-6d676027f7a2",
   "metadata": {},
   "outputs": [],
   "source": [
    "# tuple\n",
    "t = 12345, 54321, 'hello!' # without any parenthesis\n",
    "print(t[0]) # 12345\n",
    "print(t) # (12345, 54321, 'hello!')\n",
    "u = t, (1, 2, 3, 4, 5)\n",
    "\n",
    "# A tuple also can be an item of another tuple\n",
    "print(u) # ((12345, 54321, 'hello!'), (1, 2, 3, 4, 5))  # Notice the parentheses\n",
    "\n",
    "\n",
    "# Each item is immutable, read only\n",
    "t = 12345, 54321, 'hello!'\n",
    "t[1] = 0 # Error!"
   ]
  },
  {
   "cell_type": "code",
   "execution_count": 35,
   "id": "960b785c-c426-4d44-8209-a3acbbb96f83",
   "metadata": {},
   "outputs": [
    {
     "data": {
      "image/png": "[encoded data removed]",
      "text/plain": [
       "<Figure size 432x288 with 1 Axes>"
      ]
     },
     "metadata": {
      "needs_background": "light"
     },
     "output_type": "display_data"
    }
   ],
   "source": [
    "import matplotlib.pyplot as plt\n",
    "X = [0, 1, 2, 3]\n",
    "Y = [10, 5, 8, 9]\n",
    "plt.plot(X, Y)\n",
    "plt.scatter(X, Y)\n",
    "plt.show()"
   ]
  },
  {
   "cell_type": "code",
   "execution_count": 40,
   "id": "0db44923-0b7e-46a6-9683-e89d00b7ffd5",
   "metadata": {},
   "outputs": [
    {
     "data": {
      "image/png": "[encoded data removed]",
      "text/plain": [
       "<Figure size 432x288 with 1 Axes>"
      ]
     },
     "metadata": {
      "needs_background": "light"
     },
     "output_type": "display_data"
    }
   ],
   "source": [
    "# 將 Tuple T 轉成 X,Y，並plot成圖\n",
    "T = (0, 10), (1, 5), (2, 8), (3, 9)\n",
    "X = [T[i][0] for i in range(4)]\n",
    "Y = [T[i][1] for i in range(4)]\n",
    "plt.plot(X, Y)\n",
    "plt.scatter(X, Y)\n",
    "plt.show()"
   ]
  },
  {
   "cell_type": "code",
   "execution_count": null,
   "id": "9fcbba10-f518-4969-a0e8-ca90bcccd713",
   "metadata": {},
   "outputs": [],
   "source": []
  },
  {
   "cell_type": "code",
   "execution_count": null,
   "id": "d112554d-6932-4185-9e70-9baf12501cd6",
   "metadata": {},
   "outputs": [],
   "source": []
  },
  {
   "cell_type": "code",
   "execution_count": null,
   "id": "68ccac8b-b2d6-4927-8137-d1b7d2e2850e",
   "metadata": {},
   "outputs": [],
   "source": []
  },
  {
   "cell_type": "code",
   "execution_count": 5,
   "id": "7ee2bd36-4183-4123-ae68-4d0a234c15a3",
   "metadata": {},
   "outputs": [
    {
     "name": "stdout",
     "output_type": "stream",
     "text": [
      "[[1, 2], [3, 4], 50, 6]\n",
      "[[1, 2], [3, 4], 50, 6]\n"
     ]
    }
   ],
   "source": [
    "L1= [[1,2], [3,4], 5, 6]\n",
    "L2 = L1\n",
    "L2[2]*=10\n",
    "print(L2)\n",
    "print(L1)"
   ]
  },
  {
   "cell_type": "code",
   "execution_count": 7,
   "id": "7a070f8b-b014-409b-9728-c6badba381f6",
   "metadata": {},
   "outputs": [
    {
     "name": "stdout",
     "output_type": "stream",
     "text": [
      "[[1, 2], [3, 4], 50, 6]\n",
      "[[1, 2], [3, 4], 5, 6]\n",
      "[[1, 2, 3], [3, 4], 50, 6]\n",
      "[[1, 2, 3], [3, 4], 5, 6]\n"
     ]
    }
   ],
   "source": [
    "L1= [[1,2], [3,4], 5, 6]\n",
    "L2 = list(L1) #shallow copy\n",
    "L2[2]*=10\n",
    "print(L2)\n",
    "print(L1)\n",
    "\n",
    "L2[0]+= [3] #shollow copy 只複製第一層\n",
    "print(L2)\n",
    "print(L1)"
   ]
  },
  {
   "cell_type": "code",
   "execution_count": 13,
   "id": "847ec244-8adf-4477-940b-f88599b5b5c4",
   "metadata": {},
   "outputs": [
    {
     "name": "stdout",
     "output_type": "stream",
     "text": [
      "[[1, 2, 3], [3, 4], 50, 6]\n",
      "[[1, 2], [3, 4], 5, 6]\n",
      "--------------------\n",
      "[{1, 2, 3}, [3, 4], 5, 6, 7]\n",
      "[{1, 2}, [3, 4], 5, 6]\n"
     ]
    }
   ],
   "source": [
    "import copy\n",
    "L1= [[1,2], [3,4], 5, 6]\n",
    "L2 = copy.deepcopy(L1) #deep copy\n",
    "L2[0] += [3]\n",
    "L2[2] *= 10\n",
    "print(L2)\n",
    "print(L1)\n",
    "print(\"-\"*20)\n",
    "\n",
    "import copy\n",
    "L1= [{1,2}, [3,4], 5, 6]\n",
    "L2 = copy.deepcopy(L1) #deep copy\n",
    "L2.append(7)\n",
    "L2[0].add(3) # add = {}專用的append\n",
    "print(L2)\n",
    "print(L1)"
   ]
  },
  {
   "cell_type": "code",
   "execution_count": 17,
   "id": "0bcd71f5-80a7-4a63-a5c0-5435ed36fbb4",
   "metadata": {},
   "outputs": [
    {
     "name": "stdout",
     "output_type": "stream",
     "text": [
      "['aaa', 'bbb', 'ccc eee fff', 'ggg ']\n",
      "['aaa*bbb*ccc', 'eee', 'fff*ggg', '']\n",
      "['aaa', 'bbb', 'ccc eee fff*ggg ']\n",
      "--------------------\n",
      "['aaa', 'bbb', '', 'ccc', '', '', 'eee']\n"
     ]
    }
   ],
   "source": [
    "# split\n",
    "s = 'aaa*bbb*ccc eee fff*ggg '\n",
    "L1 = s.split(sep = '*')\n",
    "L2 = s.split(sep = ' ')\n",
    "L3 = s.split(sep = '*', maxsplit = 2)\n",
    "print(L1) # ['aaa', 'bbb', 'ccc eee fff', 'ggg ']\n",
    "print(L2) # ['aaa*bbb*ccc', 'eee', 'fff*ggg', '']\n",
    "print(L3) # ['aaa', 'bbb', 'ccc eee fff*ggg ']\n",
    "\n",
    "print(\"-\"*20)\n",
    "\n",
    "#重複的sep之間會變成空格印出\n",
    "s = 'aaa*bbb**ccc***eee'\n",
    "L = s.split(sep = '*')\n",
    "print(L) # ['aaa', 'bbb', '', 'ccc', '', '', 'eee']"
   ]
  },
  {
   "cell_type": "code",
   "execution_count": null,
   "id": "02626883-1f19-4678-8e65-3de797f203bc",
   "metadata": {},
   "outputs": [],
   "source": []
  },
  {
   "cell_type": "code",
   "execution_count": 56,
   "id": "787ec791-ec67-409f-b75e-bea74c61159f",
   "metadata": {},
   "outputs": [
    {
     "name": "stdout",
     "output_type": "stream",
     "text": [
      "----------\n",
      "Counter({'b': 9, 'a': 6, 'c': 3})\n",
      "----------\n",
      "dict_keys(['c', 'b', 'a'])\n",
      "----------\n",
      "dict_items([('c', 3), ('b', 9), ('a', 6)])\n"
     ]
    }
   ],
   "source": [
    "from collections import Counter\n",
    "s = 'cccbbbaaabbbaaabbb'\n",
    "cnt = Counter(s)\n",
    "print('----------')\n",
    "print(cnt) # Counter({'b': 9, 'a': 6, 'c': 3})\n",
    "print('----------')\n",
    "print(cnt.keys()) # dict_keys(['c', 'b', 'a']) \n",
    "print('----------')\n",
    "print(cnt.items()) # dict_items([('c', 3), ('b', 9), ('a', 6)])"
   ]
  },
  {
   "cell_type": "code",
   "execution_count": 57,
   "id": "5fe235fe-2ac0-410d-bcac-4372374ee949",
   "metadata": {},
   "outputs": [
    {
     "name": "stdout",
     "output_type": "stream",
     "text": [
      "c \t 3\n",
      "b \t 9\n",
      "a \t 6\n"
     ]
    }
   ],
   "source": [
    "from collections import Counter\n",
    "s = 'cccbbbaaabbbaaabbb'\n",
    "cnt = Counter(s)\n",
    "for item in cnt:\n",
    "    print(item, '\\t', cnt[item])"
   ]
  },
  {
   "cell_type": "code",
   "execution_count": 49,
   "id": "69fbae66-4d21-4d9b-a0f4-dd2e6ad9307d",
   "metadata": {},
   "outputs": [
    {
     "name": "stdout",
     "output_type": "stream",
     "text": [
      "{'xyz': 1}\n",
      "{'xyz': 1, 'abc': 1}\n",
      "{'xyz': 2, 'abc': 1}\n",
      "{'xyz': 2, 'abc': 2}\n",
      "{'xyz': 2, 'abc': 3}\n",
      "{'xyz': 2, 'abc': 3, 'ABC': 1}\n",
      "{'ABC': 1, 'xyz': 2, 'abc': 3}\n"
     ]
    }
   ],
   "source": [
    "\"\"\"\n",
    "作業5/14:\n",
    " Design a program to count the number of occurrences of \n",
    "each word in a text \n",
    "• Assuming that each word is separated by a space character.\n",
    "• Only count non-zero-length words\n",
    "• Just ignore zero-length words\n",
    "• Print the results by the number of occurrences in ascending order\n",
    "• for example, given a text, \n",
    "    \" xyz abc xyz abc abc ABC \", \n",
    "the results will be \n",
    "    ABC: 1\n",
    "    xyz: 2\n",
    "    abc: 3\n",
    "\"\"\"\n",
    "raw = 'xyz abc xyz abc abc ABC'\n",
    "word = raw.split(sep = \" \")\n",
    "\n",
    "word_frequency = {}\n",
    "\n",
    "for f in word:\n",
    "    if f not in word_frequency:\n",
    "        word_frequency[f] = 1\n",
    "    else:\n",
    "        word_frequency[f] += 1\n",
    "    print(word_frequency)\n",
    "\n",
    "word_frequency = dict(sorted(word_frequency.items(), key=lambda item: item[1]))\n",
    "print(word_frequency )\n",
    "    "
   ]
  },
  {
   "cell_type": "code",
   "execution_count": 28,
   "id": "fb538b72-fd0c-44ca-bb54-358fe2bc0b47",
   "metadata": {},
   "outputs": [
    {
     "name": "stdout",
     "output_type": "stream",
     "text": [
      "[1, 2, 3]\n"
     ]
    }
   ],
   "source": [
    "print(sorted(word_frequency.values()))\n"
   ]
  },
  {
   "cell_type": "code",
   "execution_count": 37,
   "id": "31401aef-a419-4743-abba-a83329028396",
   "metadata": {},
   "outputs": [
    {
     "name": "stdout",
     "output_type": "stream",
     "text": [
      "[('ABC', 1), ('xyz', 2), ('abc', 3)]\n"
     ]
    }
   ],
   "source": [
    "print(sorted(word_frequency.items(), key=lambda d: d[1]))"
   ]
  },
  {
   "cell_type": "code",
   "execution_count": null,
   "id": "83e4b82b-9cee-4f56-888e-1549ecbea13b",
   "metadata": {},
   "outputs": [],
   "source": []
  }
 ],
 "metadata": {
  "kernelspec": {
   "display_name": "py37",
   "language": "python",
   "name": "env_name"
  },
  "language_info": {
   "codemirror_mode": {
    "name": "ipython",
    "version": 3
   },
   "file_extension": ".py",
   "mimetype": "text/x-python",
   "name": "python",
   "nbconvert_exporter": "python",
   "pygments_lexer": "ipython3",
   "version": "3.7.10"
  }
 },
 "nbformat": 4,
 "nbformat_minor": 5
}
