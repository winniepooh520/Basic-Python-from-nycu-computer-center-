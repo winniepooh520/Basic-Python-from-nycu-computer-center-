{
 "cells": [
  {
   "cell_type": "code",
   "execution_count": 1,
   "metadata": {},
   "outputs": [
    {
     "name": "stdout",
     "output_type": "stream",
     "text": [
      "Input the 1st stringLike u\n",
      "Like u\n",
      "Input the 2nd stringuntil\n",
      "Like u until\n"
     ]
    }
   ],
   "source": [
    "x=input(\"Input the 1st string\")\n",
    "print(x)\n",
    "y = input(\"Input the 2nd string\")\n",
    "print(x,y)"
   ]
  },
  {
   "cell_type": "code",
   "execution_count": 2,
   "metadata": {},
   "outputs": [
    {
     "name": "stdout",
     "output_type": "stream",
     "text": [
      "Jameschengcs\n"
     ]
    }
   ],
   "source": [
    "x = \"James\" + 'cheng' + 'cs'\n",
    "print(x)"
   ]
  },
  {
   "cell_type": "code",
   "execution_count": 3,
   "metadata": {},
   "outputs": [
    {
     "name": "stdout",
     "output_type": "stream",
     "text": [
      "Jameschengcs@nctu.edu.tw\n"
     ]
    }
   ],
   "source": [
    "y = x + '@''nctu.edu.tw'\n",
    "print(y)"
   ]
  },
  {
   "cell_type": "code",
   "execution_count": 6,
   "metadata": {},
   "outputs": [
    {
     "name": "stdout",
     "output_type": "stream",
     "text": [
      "EMAIL:Jameschengcs@nctu.edu.tw\n"
     ]
    }
   ],
   "source": [
    "z = \"EMAIL:\"\n",
    "z += y\n",
    "print(z)"
   ]
  },
  {
   "cell_type": "code",
   "execution_count": 8,
   "metadata": {},
   "outputs": [
    {
     "name": "stdout",
     "output_type": "stream",
     "text": [
      "579\n",
      "123456\n"
     ]
    }
   ],
   "source": [
    "x = 123\n",
    "y = 456\n",
    "z = x+y \n",
    "print(z)\n",
    "\n",
    "z = str(x)+str(y)\n",
    "print(z)"
   ]
  },
  {
   "cell_type": "code",
   "execution_count": 23,
   "metadata": {},
   "outputs": [
    {
     "data": {
      "text/plain": [
       "[6, 5, 4, 30, 20, 10]"
      ]
     },
     "execution_count": 23,
     "metadata": {},
     "output_type": "execute_result"
    }
   ],
   "source": [
    "L = [10,20,30,4,5,6]\n",
    "L[::-1]"
   ]
  },
  {
   "cell_type": "code",
   "execution_count": 26,
   "metadata": {},
   "outputs": [
    {
     "data": {
      "text/plain": [
       "[10, 20, 30, 4, 5, 6]"
      ]
     },
     "execution_count": 26,
     "metadata": {},
     "output_type": "execute_result"
    }
   ],
   "source": [
    "L[0:6]"
   ]
  },
  {
   "cell_type": "code",
   "execution_count": 14,
   "metadata": {},
   "outputs": [
    {
     "data": {
      "text/plain": [
       "['456', 20, 30, 'ABC', '123', 10]"
      ]
     },
     "execution_count": 14,
     "metadata": {},
     "output_type": "execute_result"
    }
   ],
   "source": [
    "# L[0],L[5]對調位置\n",
    "L = [10,20,30,'ABC','123','456']\n",
    "a = L[0]\n",
    "L[0] = L[5]\n",
    "L[5] = a\n",
    "L"
   ]
  },
  {
   "cell_type": "code",
   "execution_count": null,
   "metadata": {},
   "outputs": [],
   "source": [
    "# L[0],L[5]對調位置\n",
    "L = [10,20,30,'ABC','123','456']\n",
    "L[0],L[-1] = L[-1],L[0]\n",
    "L"
   ]
  },
  {
   "cell_type": "code",
   "execution_count": 17,
   "metadata": {},
   "outputs": [
    {
     "data": {
      "text/plain": [
       "['ABC', '123', '456', 10, 20, 30]"
      ]
     },
     "execution_count": 17,
     "metadata": {},
     "output_type": "execute_result"
    }
   ],
   "source": [
    "# L前後半部對調位置\n",
    "L = [10,20,30,'ABC','123','456']\n",
    "L[0:3],L[3:6] = L[3:6],L[0:3]\n",
    "L"
   ]
  },
  {
   "cell_type": "code",
   "execution_count": 32,
   "metadata": {},
   "outputs": [
    {
     "data": {
      "text/plain": [
       "['ABC', '123', '456', 10, 20, 30, 40]"
      ]
     },
     "execution_count": 32,
     "metadata": {},
     "output_type": "execute_result"
    }
   ],
   "source": [
    "# L前後半部對調位置\n",
    "L = [10,20,30,40,'ABC','123','456']\n",
    "# A = L[0:4]\n",
    "# B = L[4:7]\n",
    "L = L[len(L)//2+1:len(L)] + L[0:len(L)//2+1]\n",
    "L"
   ]
  },
  {
   "cell_type": "code",
   "execution_count": 38,
   "metadata": {},
   "outputs": [
    {
     "data": {
      "text/plain": [
       "['ABC', '123', '456', 10, 20, 30, 40]"
      ]
     },
     "execution_count": 38,
     "metadata": {},
     "output_type": "execute_result"
    }
   ],
   "source": [
    "# L前後半部對調位置\n",
    "L = [10,20,30,40,'ABC','123','456']\n",
    "# A = L[0:4]\n",
    "# B = L[4:7]\n",
    "L = L[len(L)//2+len(L)%2:len(L)] + L[0:len(L)//2+len(L)%2]\n",
    "# 7: L[4:7]+L[0:4]\n",
    "L"
   ]
  },
  {
   "cell_type": "code",
   "execution_count": 28,
   "metadata": {},
   "outputs": [
    {
     "data": {
      "text/plain": [
       "7"
      ]
     },
     "execution_count": 28,
     "metadata": {},
     "output_type": "execute_result"
    }
   ],
   "source": [
    "len(L)"
   ]
  },
  {
   "cell_type": "code",
   "execution_count": 39,
   "metadata": {},
   "outputs": [
    {
     "data": {
      "text/plain": [
       "3"
      ]
     },
     "execution_count": 39,
     "metadata": {},
     "output_type": "execute_result"
    }
   ],
   "source": [
    "7//2"
   ]
  },
  {
   "cell_type": "code",
   "execution_count": 42,
   "metadata": {},
   "outputs": [
    {
     "data": {
      "text/plain": [
       "1"
      ]
     },
     "execution_count": 42,
     "metadata": {},
     "output_type": "execute_result"
    }
   ],
   "source": [
    "7%2"
   ]
  },
  {
   "cell_type": "code",
   "execution_count": null,
   "metadata": {},
   "outputs": [],
   "source": []
  }
 ],
 "metadata": {
  "kernelspec": {
   "display_name": "Python 3",
   "language": "python",
   "name": "python3"
  },
  "language_info": {
   "codemirror_mode": {
    "name": "ipython",
    "version": 3
   },
   "file_extension": ".py",
   "mimetype": "text/x-python",
   "name": "python",
   "nbconvert_exporter": "python",
   "pygments_lexer": "ipython3",
   "version": "3.8.5"
  }
 },
 "nbformat": 4,
 "nbformat_minor": 4
}
